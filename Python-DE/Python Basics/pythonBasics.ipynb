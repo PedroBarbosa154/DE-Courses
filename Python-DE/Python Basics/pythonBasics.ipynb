{
 "cells": [
  {
   "cell_type": "markdown",
   "metadata": {},
   "source": [
    "### <div id=\"py\"> Introduction To Python (Basics) </div>"
   ]
  },
  {
   "cell_type": "markdown",
   "metadata": {},
   "source": [
    "<img src=\"images/python-logo.png\" alt=\"Python\" style=\"width: 500px;\"/>\n",
    "\n",
    "\n",
    "Python is a\n",
    "\n",
    "- general purpose programming language\n",
    "- interpreted, not compiled\n",
    "- both **dynamically typed** _and_ **strongly typed**\n",
    "- supports multiple programming paradigms: object oriented, functional\n",
    "- comes in 2 main versions in use today: 2.7 and 3.x"
   ]
  },
  {
   "cell_type": "markdown",
   "metadata": {},
   "source": [
    "## Python's Interactive Console : The Interpreter\n",
    "\n",
    "***\n",
    "- The Python interpreter is a console that allows interactive development\n",
    "- We are currently using the Jupyter notebook, which uses an advanced Python interpreter called IPython\n",
    "- This gives us much more power and flexibility\n",
    "\n",
    "**Let's try it out !**"
   ]
  },
  {
   "cell_type": "code",
   "execution_count": 1,
   "metadata": {},
   "outputs": [
    {
     "name": "stdout",
     "output_type": "stream",
     "text": [
      "Hello World!\n"
     ]
    }
   ],
   "source": [
    "# As usual with any programming language we will start by printing out 'Hello World!' with the print function\n",
    "print('Hello World!')"
   ]
  },
  {
   "cell_type": "markdown",
   "metadata": {},
   "source": [
    "# What are we going to learn today?\n",
    "***\n",
    "- CHAPTER 1 - **Python Basics**\n",
    "     - **Strings**\n",
    "      - Creating a String, variable assignments\n",
    "      - String Indexing & Slicing\n",
    "      - String Concatenation & Repetition\n",
    "      - Basic Built-in String Methods\n",
    "     - **Numbers**\n",
    "      - Types of Numbers\n",
    "      - Basic Arithmetic\n",
    "      \n",
    "\n",
    "\n",
    "- CHAPTER 2 - **Data Types & Data Structures**\n",
    "     - Lists\n",
    "     - Dictionaries\n",
    "     - Sets & Booleans\n",
    "\n",
    "\n",
    "- CHAPTER 3 - **Python Programming Constructs**\n",
    "     - Loops & Iterative Statements\n",
    "      - if,elif,else statements\n",
    "      - for loops, while loops\n",
    "     - Comprehensions\n",
    "     - Exception Handling\n",
    "     - Modules, Packages, \n",
    "     - File I/O operations    "
   ]
  },
  {
   "cell_type": "code",
   "execution_count": 2,
   "metadata": {},
   "outputs": [
    {
     "name": "stdout",
     "output_type": "stream",
     "text": [
      "Hello Data Science World!\n"
     ]
    }
   ],
   "source": [
    "# Print out 'Hello Data Science World!' \n",
    "print('Hello Data Science World!')"
   ]
  },
  {
   "cell_type": "markdown",
   "metadata": {},
   "source": [
    "# CHAPTER - 1 : Python Basics\n",
    "***\n",
    "Let's understand \n",
    "- Basic data types\n",
    "- Variables and Scoping\n",
    "- Modules, Packages and the **`import`** statement\n",
    "- Operators"
   ]
  },
  {
   "cell_type": "markdown",
   "metadata": {},
   "source": [
    "<img src=\"images/py.png\" id=\"string\" alt=\"Concept-Alert\" style=\"width: 100px;float:left; margin-right:15px\"/>\n",
    "<br /> \n",
    "\n",
    "# Strings\n",
    "***\n",
    "\n",
    "Strings are used in Python to record text information, such as name. Strings in Python are actually a *sequence*, which basically means Python keeps track of every element in the string as a sequence. For example, Python understands the string \"Python' to be a sequence of letters in a specific order. This means we will be able to use indexing to grab particular letters (like the first letter, or the last letter)."
   ]
  },
  {
   "cell_type": "markdown",
   "metadata": {},
   "source": [
    "<div style=\"text-align:center\">\n",
    "  <img src=\"images/python_string.png\" id=\"string\" alt=\"Concept-Alert\" style=\"width: 400px; margin-right:15px\"/>\n",
    "</div>"
   ]
  },
  {
   "cell_type": "markdown",
   "metadata": {},
   "source": [
    "This idea of a sequence is an important one in Python and we will touch upon it later on in the future.\n",
    "\n",
    "In this lecture we'll learn about the following:\n",
    "\n",
    "    1.) Creating Strings\n",
    "    2.) Printing Strings\n",
    "    3.) String Indexing and Slicing\n",
    "    4.) String Properties\n",
    "    5.) String Methods\n",
    "    6.) Print Formatting"
   ]
  },
  {
   "cell_type": "markdown",
   "metadata": {},
   "source": [
    "### Creating a String\n",
    "\n",
    "To create a string in Python you need to use either single quotes or double quotes. For example:"
   ]
  },
  {
   "cell_type": "code",
   "execution_count": 3,
   "metadata": {},
   "outputs": [
    {
     "name": "stdout",
     "output_type": "stream",
     "text": [
      "Hello!\n",
      "\n",
      "This is also a string!\n"
     ]
    }
   ],
   "source": [
    "# Print out a single word\n",
    "print('Hello!')\n",
    "\n",
    "# Print out an empty line\n",
    "print()\n",
    "\n",
    "# Print out an entire phrase\n",
    "print('This is also a string!')"
   ]
  },
  {
   "cell_type": "code",
   "execution_count": 4,
   "metadata": {},
   "outputs": [
    {
     "name": "stdout",
     "output_type": "stream",
     "text": [
      "Pedro\n"
     ]
    }
   ],
   "source": [
    "# Print out my name\n",
    "print('Pedro')"
   ]
  },
  {
   "cell_type": "markdown",
   "metadata": {},
   "source": [
    "## Variables : Store your Value in me!\n",
    "***\n",
    "\n",
    "In the code below we begin to explore how we can use a variable to which a string can be assigned. This can be extremely useful in many cases, where you can call the variable instead of typing the string everytime. This not only makes our code clean but it also makes it less redundant. \n",
    "Example syntax to assign a value or expression to a variable,\n",
    "\n",
    "variable_name = value or expression"
   ]
  },
  {
   "cell_type": "markdown",
   "metadata": {},
   "source": [
    "<div style=\"text-align:center\">\n",
    "  <img src=\"images/variable.png\" alt=\"Concept-Alert\" style=\"width: 400px; margin-right:15px\"/>\n",
    "</div>"
   ]
  },
  {
   "cell_type": "markdown",
   "metadata": {},
   "source": [
    "Now let's get coding!!. With the below block of code showing how to assign a string to variable."
   ]
  },
  {
   "cell_type": "markdown",
   "metadata": {},
   "source": [
    "### String Indexing\n",
    "We know strings are a sequence, which means Python can use indexes to call parts of the sequence. Let's learn how this works."
   ]
  },
  {
   "cell_type": "markdown",
   "metadata": {},
   "source": [
    "<div style=\"text-align:center\">\n",
    "  <img src=\"images/indexing.png\" alt=\"Concept-Alert\" style=\"width: 400px; margin-right:15px\"/>\n",
    "</div>"
   ]
  },
  {
   "cell_type": "markdown",
   "metadata": {},
   "source": [
    "In Python, we use brackets [] after an object to call its index. We should also note that indexing starts at 0 for Python. Let's create a new object called s and the walk through a few examples of indexing."
   ]
  },
  {
   "cell_type": "code",
   "execution_count": 5,
   "metadata": {},
   "outputs": [],
   "source": [
    "# Assing variable 's' as a string\n",
    "s = 'Hello World'"
   ]
  },
  {
   "cell_type": "code",
   "execution_count": 6,
   "metadata": {},
   "outputs": [
    {
     "name": "stdout",
     "output_type": "stream",
     "text": [
      "W\n"
     ]
    }
   ],
   "source": [
    "# Print the character at index 6\n",
    "print(s[6])"
   ]
  },
  {
   "cell_type": "code",
   "execution_count": 7,
   "metadata": {},
   "outputs": [
    {
     "name": "stdout",
     "output_type": "stream",
     "text": [
      "Hello World\n"
     ]
    }
   ],
   "source": [
    "# Print out the object\n",
    "print(s)"
   ]
  },
  {
   "cell_type": "code",
   "execution_count": 8,
   "metadata": {},
   "outputs": [
    {
     "name": "stdout",
     "output_type": "stream",
     "text": [
      "H\n"
     ]
    }
   ],
   "source": [
    "# Print out the first element of the object (in this case it is the first letter)\n",
    "print(s[0])"
   ]
  },
  {
   "cell_type": "code",
   "execution_count": 9,
   "metadata": {},
   "outputs": [
    {
     "name": "stdout",
     "output_type": "stream",
     "text": [
      "d\n"
     ]
    }
   ],
   "source": [
    "# Print out the last element of the object (in this case the last letter)\n",
    "print(s[len(s)-1])"
   ]
  },
  {
   "cell_type": "code",
   "execution_count": 10,
   "metadata": {},
   "outputs": [
    {
     "name": "stdout",
     "output_type": "stream",
     "text": [
      "d\n",
      "d\n",
      "d\n",
      "\n",
      "l\n",
      "l\n",
      "l\n",
      "l\n"
     ]
    }
   ],
   "source": [
    "# Print out the letters 'd' and 'l' in several ways\n",
    "print(s[10])\n",
    "print(s[-1])\n",
    "print(s[len(s)-1])\n",
    "\n",
    "print()\n",
    "\n",
    "print(s[2])\n",
    "print(s[3])\n",
    "print(s[-2])\n",
    "print(s[-8])"
   ]
  },
  {
   "cell_type": "markdown",
   "metadata": {},
   "source": [
    "# String Concatenation and Repetition\n",
    "\n",
    "***\n",
    "**String Concatenation** is a process to combine two strings. It is done using the '+' operator. "
   ]
  },
  {
   "cell_type": "markdown",
   "metadata": {},
   "source": [
    "<div style=\"text-align:center\">\n",
    "  <img src=\"images/string_concat.png\" alt=\"Concept-Alert\" style=\"width: 400px; margin-right:15px\"/>\n",
    "</div>"
   ]
  },
  {
   "cell_type": "markdown",
   "metadata": {},
   "source": [
    "**String Repetition** is a process of repeating a same string multiple times\n",
    "\n",
    "The examples of the above concepts is as follows."
   ]
  },
  {
   "cell_type": "code",
   "execution_count": 11,
   "metadata": {},
   "outputs": [
    {
     "name": "stdout",
     "output_type": "stream",
     "text": [
      "Hello World\n"
     ]
    }
   ],
   "source": [
    "# Concatenate (Addition) two strings. Join them into a single string.\n",
    "s1 = 'Hello'\n",
    "s2 = 'World' \n",
    "\n",
    "print(s1 + ' ' + s2)"
   ]
  },
  {
   "cell_type": "code",
   "execution_count": 12,
   "metadata": {},
   "outputs": [
    {
     "name": "stdout",
     "output_type": "stream",
     "text": [
      "Hello_Hello_Hello_Hello_Hello_\n",
      "----------\n",
      "Pedro Pedro Pedro Pedro Pedro Pedro Pedro Pedro Pedro Pedro \n"
     ]
    }
   ],
   "source": [
    "# Concatenate (Multiplication) a string. Repeat a string multiple times.\n",
    "print(\"Hello_\" * 5)\n",
    "print(\"-\" * 10)\n",
    "print(\"Pedro \" * 10)"
   ]
  },
  {
   "cell_type": "markdown",
   "metadata": {},
   "source": [
    "## String Slicing & Indexing\n",
    "***\n",
    "**String Indexing** is used to to select the letter at a particular index/position. \n",
    "\n",
    "**String Slicing** is a process to select a subset of an entire string"
   ]
  },
  {
   "cell_type": "markdown",
   "metadata": {},
   "source": [
    "<div style=\"text-align:center\">\n",
    "  <img src=\"images/string-slicing-in-python.png\" alt=\"Concept-Alert\" style=\"width: 400px; margin-right:15px\"/>\n",
    "</div>"
   ]
  },
  {
   "cell_type": "markdown",
   "metadata": {},
   "source": [
    "The examples of the above stated are as follows"
   ]
  },
  {
   "cell_type": "code",
   "execution_count": 13,
   "metadata": {},
   "outputs": [],
   "source": [
    "# Assing variable 's' as a string\n",
    "s = 'Namaste World'"
   ]
  },
  {
   "cell_type": "code",
   "execution_count": 14,
   "metadata": {},
   "outputs": [
    {
     "name": "stdout",
     "output_type": "stream",
     "text": [
      "N\n",
      "Worl\n",
      "World\n"
     ]
    }
   ],
   "source": [
    "# Print substrings\n",
    "print(s[0]) # This is known as indexing\n",
    "print(s[8:12]) # This is known as slicing\n",
    "print(s[-5:]) # this is also known as slicing"
   ]
  },
  {
   "cell_type": "markdown",
   "metadata": {},
   "source": [
    "As we can see from above, when we do slicing we are doing something like string[start:stop]. However, the stop value always as to be +1 in relation to the final index we want to obtain. As we can see from above when we did s[8:12] we only got Worl and not World and the 'd' character has index value 12. The same happens when we use slicing with negative values."
   ]
  },
  {
   "cell_type": "code",
   "execution_count": 15,
   "metadata": {},
   "outputs": [
    {
     "name": "stdout",
     "output_type": "stream",
     "text": [
      "Namaste\n"
     ]
    }
   ],
   "source": [
    "print(s[-13:-6])"
   ]
  },
  {
   "cell_type": "code",
   "execution_count": 16,
   "metadata": {},
   "outputs": [
    {
     "name": "stdout",
     "output_type": "stream",
     "text": [
      "True\n"
     ]
    }
   ],
   "source": [
    "# Test substring membership\n",
    "print('World' in s)"
   ]
  },
  {
   "cell_type": "markdown",
   "metadata": {},
   "source": [
    "Note the above slicing. Here we're telling Python to grab everything from 6 up to 10 and from fifth last to second last. You'll notice this a lot in Python, where statements and are usually in the context of \"up to, but not including\"."
   ]
  },
  {
   "cell_type": "markdown",
   "metadata": {},
   "source": [
    "## Basic Built-in String methods\n",
    "\n",
    "***\n",
    "Objects in Python usually have built-in methods. These methods are functions inside the object (we will learn about these in much more depth later) that can perform actions or commands on the object itself.\n",
    "\n",
    "We call methods with a period and then the method name. Methods are in the form:\n",
    "\n",
    "object.method(parameters)\n",
    "\n",
    "Where parameters are extra arguments we can pass into the method. Don't worry if the details don't make 100% sense right now. Later on we will be creating our own objects and functions!\n",
    "\n",
    "Here are some examples of built-in methods in strings:"
   ]
  },
  {
   "cell_type": "code",
   "execution_count": 17,
   "metadata": {},
   "outputs": [
    {
     "name": "stdout",
     "output_type": "stream",
     "text": [
      "HELLO WORLD\n",
      "hello world\n"
     ]
    }
   ],
   "source": [
    "s = 'Hello World'\n",
    "\n",
    "# Print out the string with upper case letters\n",
    "print(s.upper())\n",
    "\n",
    "# Print out the string with lower case letter\n",
    "print(s.lower())"
   ]
  },
  {
   "cell_type": "code",
   "execution_count": 18,
   "metadata": {},
   "outputs": [
    {
     "name": "stdout",
     "output_type": "stream",
     "text": [
      "<class 'str'>\n"
     ]
    }
   ],
   "source": [
    "# Get the type of the variable s\n",
    "print(type(s))"
   ]
  },
  {
   "cell_type": "markdown",
   "metadata": {},
   "source": [
    "## Print Formatting\n",
    "\n",
    "We can use the .format() method to add formatted objects to printed string statements. \n",
    "\n",
    "The easiest way to show this is through an example:"
   ]
  },
  {
   "cell_type": "code",
   "execution_count": 19,
   "metadata": {},
   "outputs": [
    {
     "name": "stdout",
     "output_type": "stream",
     "text": [
      "Hello, my name is Einstein, my age is 80, and it is True that I am married.\n",
      "Hello, my name is Einstein, my age is 80, and it is True that I am married.\n"
     ]
    }
   ],
   "source": [
    "name = 'Einstein'\n",
    "age = 80\n",
    "married = True\n",
    "\n",
    "# This is the first way of print formatting\n",
    "print('Hello, my name is %s, my age is %s, and it is %s that I am married.' % (name, age, married))\n",
    "\n",
    "# This is the second and most common way of print formatting also known as f-string\n",
    "print(f'Hello, my name is {name}, my age is {age}, and it is {married} that I am married.')"
   ]
  }
 ],
 "metadata": {
  "kernelspec": {
   "display_name": "decourses",
   "language": "python",
   "name": "python3"
  },
  "language_info": {
   "codemirror_mode": {
    "name": "ipython",
    "version": 3
   },
   "file_extension": ".py",
   "mimetype": "text/x-python",
   "name": "python",
   "nbconvert_exporter": "python",
   "pygments_lexer": "ipython3",
   "version": "3.9.6"
  }
 },
 "nbformat": 4,
 "nbformat_minor": 2
}
